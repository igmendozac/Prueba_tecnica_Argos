{
 "cells": [
  {
   "cell_type": "markdown",
   "id": "631e2241-18f6-4445-b4aa-ea592c79a3b1",
   "metadata": {},
   "source": [
    "# <img style=\"float: left; padding: 10px 0px 0px 0px;\" src=\"https://static.wixstatic.com/media/57c50b_10ace1329e484af3abaa7321ca5d7010~mv2.jpg/v1/fill/w_480,h_270,al_c,lg_1,q_80,enc_auto/57c50b_10ace1329e484af3abaa7321ca5d7010~mv2.jpg\"  width=\"300\" /> Prueba técnica Argos\n",
    "**Ivan Mendoza**<br>\n",
    "\n",
    "---\n",
    "\n",
    "Comenzamos importando los paquetes necesarios:"
   ]
  },
  {
   "cell_type": "code",
   "execution_count": 2,
   "id": "256cd430-65cc-4abd-acf7-d186f15f3360",
   "metadata": {},
   "outputs": [],
   "source": [
    "# !pip install lazypredict "
   ]
  },
  {
   "cell_type": "code",
   "execution_count": 24,
   "id": "253a6bf1-5a80-42a6-ad3d-cc1e940b7d96",
   "metadata": {},
   "outputs": [],
   "source": [
    "from lazypredict.Supervised import LazyClassifier\n",
    "from sklearn.model_selection import train_test_split\n",
    "\n",
    "import pandas\n",
    "import pandas as pd\n",
    "import seaborn as sns\n",
    "import matplotlib.pyplot as plt"
   ]
  },
  {
   "cell_type": "markdown",
   "id": "a6801363-b9ac-4052-b170-94f53a0461e9",
   "metadata": {},
   "source": [
    "##### Prueba de Ingreso:\n",
    "\n",
    "Se solicita resolver los siguientes puntos de análisis, para esto puede usar *Python*, *R* o *Spark*.\n",
    "\n",
    "##### Recursos Necesarios\n",
    "\n",
    "Software adecuado para realizar la prueba de acuerdo con el lenguaje que vaya a usar, se\r\n",
    "recomienda usa\n",
    "\n",
    "- Anaconda\n",
    "- R Studio\n",
    "- Databricks<br>\n",
    "\n",
    "O lo que considere útil para desarrollar su prueba.\n",
    "\n",
    "\n",
    "Datasets necesarios para el desarrollo de al pureba\n",
    "\n",
    "[Dataset Iris.](https://www.kaggle.com/saurabh00007/iriscsv) <br>\n",
    "\n",
    "[Dataset Crímenes chicago.](https://data.cityofchicago.org/Public-Safety/Crimes-2001-to-present/ijzpq8t2) <br>\n",
    "Debido a que es una cantidad muy grande de datos, tome solo los últimos 3\n",
    "años de información (2016-2019), puede filtrar directamente desde la fuenteba."
   ]
  },
  {
   "cell_type": "code",
   "execution_count": 15,
   "id": "f70b88dd-7bf2-4e28-961d-adf76970026e",
   "metadata": {},
   "outputs": [
    {
     "data": {
      "text/html": [
       "<div>\n",
       "<style scoped>\n",
       "    .dataframe tbody tr th:only-of-type {\n",
       "        vertical-align: middle;\n",
       "    }\n",
       "\n",
       "    .dataframe tbody tr th {\n",
       "        vertical-align: top;\n",
       "    }\n",
       "\n",
       "    .dataframe thead th {\n",
       "        text-align: right;\n",
       "    }\n",
       "</style>\n",
       "<table border=\"1\" class=\"dataframe\">\n",
       "  <thead>\n",
       "    <tr style=\"text-align: right;\">\n",
       "      <th></th>\n",
       "      <th>Id</th>\n",
       "      <th>SepalLengthCm</th>\n",
       "      <th>SepalWidthCm</th>\n",
       "      <th>PetalLengthCm</th>\n",
       "      <th>PetalWidthCm</th>\n",
       "      <th>Species</th>\n",
       "    </tr>\n",
       "  </thead>\n",
       "  <tbody>\n",
       "    <tr>\n",
       "      <th>0</th>\n",
       "      <td>1</td>\n",
       "      <td>5.10</td>\n",
       "      <td>3.50</td>\n",
       "      <td>1.40</td>\n",
       "      <td>0.20</td>\n",
       "      <td>Iris-setosa</td>\n",
       "    </tr>\n",
       "    <tr>\n",
       "      <th>1</th>\n",
       "      <td>2</td>\n",
       "      <td>4.90</td>\n",
       "      <td>3.00</td>\n",
       "      <td>1.40</td>\n",
       "      <td>0.20</td>\n",
       "      <td>Iris-setosa</td>\n",
       "    </tr>\n",
       "    <tr>\n",
       "      <th>2</th>\n",
       "      <td>3</td>\n",
       "      <td>4.70</td>\n",
       "      <td>3.20</td>\n",
       "      <td>1.30</td>\n",
       "      <td>0.20</td>\n",
       "      <td>Iris-setosa</td>\n",
       "    </tr>\n",
       "    <tr>\n",
       "      <th>3</th>\n",
       "      <td>4</td>\n",
       "      <td>4.60</td>\n",
       "      <td>3.10</td>\n",
       "      <td>1.50</td>\n",
       "      <td>0.20</td>\n",
       "      <td>Iris-setosa</td>\n",
       "    </tr>\n",
       "    <tr>\n",
       "      <th>4</th>\n",
       "      <td>5</td>\n",
       "      <td>5.00</td>\n",
       "      <td>3.60</td>\n",
       "      <td>1.40</td>\n",
       "      <td>0.20</td>\n",
       "      <td>Iris-setosa</td>\n",
       "    </tr>\n",
       "  </tbody>\n",
       "</table>\n",
       "</div>"
      ],
      "text/plain": [
       "   Id  SepalLengthCm  SepalWidthCm  PetalLengthCm  PetalWidthCm      Species\n",
       "0   1           5.10          3.50           1.40          0.20  Iris-setosa\n",
       "1   2           4.90          3.00           1.40          0.20  Iris-setosa\n",
       "2   3           4.70          3.20           1.30          0.20  Iris-setosa\n",
       "3   4           4.60          3.10           1.50          0.20  Iris-setosa\n",
       "4   5           5.00          3.60           1.40          0.20  Iris-setosa"
      ]
     },
     "execution_count": 15,
     "metadata": {},
     "output_type": "execute_result"
    }
   ],
   "source": [
    "df_iris = pd.read_csv(\"../Data/Iris.csv\")\n",
    "df_iris.head()"
   ]
  },
  {
   "cell_type": "markdown",
   "id": "f51a223a-e592-4a1a-9f91-b420f12f7de9",
   "metadata": {},
   "source": [
    "##### Preprocesamiento\n",
    "\n",
    "Validamos que las información no se encuentre con valores nulos"
   ]
  },
  {
   "cell_type": "code",
   "execution_count": 17,
   "id": "8f77d9ce-25af-436e-9a4b-d640084f0a1e",
   "metadata": {},
   "outputs": [
    {
     "name": "stdout",
     "output_type": "stream",
     "text": [
      "<class 'pandas.core.frame.DataFrame'>\n",
      "RangeIndex: 150 entries, 0 to 149\n",
      "Data columns (total 6 columns):\n",
      " #   Column         Non-Null Count  Dtype  \n",
      "---  ------         --------------  -----  \n",
      " 0   Id             150 non-null    int64  \n",
      " 1   SepalLengthCm  150 non-null    float64\n",
      " 2   SepalWidthCm   150 non-null    float64\n",
      " 3   PetalLengthCm  150 non-null    float64\n",
      " 4   PetalWidthCm   150 non-null    float64\n",
      " 5   Species        150 non-null    object \n",
      "dtypes: float64(4), int64(1), object(1)\n",
      "memory usage: 7.2+ KB\n"
     ]
    }
   ],
   "source": [
    "df_iris.info()"
   ]
  },
  {
   "cell_type": "markdown",
   "id": "10373b27-81ec-4047-b903-3ab8365ea3ff",
   "metadata": {},
   "source": [
    "##### Estadísticas descriptivas\n",
    "\n",
    "Ahora, podemos calcular las estadísticas descriptivas básicas para cada variable en el conjunto de datos. Con el método `describe()` obtenemos un resumen:"
   ]
  },
  {
   "cell_type": "code",
   "execution_count": 33,
   "id": "62086da8-cc0c-44a4-b041-21b0de6ad6a3",
   "metadata": {},
   "outputs": [
    {
     "data": {
      "text/html": [
       "<div>\n",
       "<style scoped>\n",
       "    .dataframe tbody tr th:only-of-type {\n",
       "        vertical-align: middle;\n",
       "    }\n",
       "\n",
       "    .dataframe tbody tr th {\n",
       "        vertical-align: top;\n",
       "    }\n",
       "\n",
       "    .dataframe thead th {\n",
       "        text-align: right;\n",
       "    }\n",
       "</style>\n",
       "<table border=\"1\" class=\"dataframe\">\n",
       "  <thead>\n",
       "    <tr style=\"text-align: right;\">\n",
       "      <th></th>\n",
       "      <th>Id</th>\n",
       "      <th>SepalLengthCm</th>\n",
       "      <th>SepalWidthCm</th>\n",
       "      <th>PetalLengthCm</th>\n",
       "      <th>PetalWidthCm</th>\n",
       "    </tr>\n",
       "  </thead>\n",
       "  <tbody>\n",
       "    <tr>\n",
       "      <th>count</th>\n",
       "      <td>150.00</td>\n",
       "      <td>150.00</td>\n",
       "      <td>150.00</td>\n",
       "      <td>150.00</td>\n",
       "      <td>150.00</td>\n",
       "    </tr>\n",
       "    <tr>\n",
       "      <th>mean</th>\n",
       "      <td>75.50</td>\n",
       "      <td>5.84</td>\n",
       "      <td>3.05</td>\n",
       "      <td>3.76</td>\n",
       "      <td>1.20</td>\n",
       "    </tr>\n",
       "    <tr>\n",
       "      <th>std</th>\n",
       "      <td>43.45</td>\n",
       "      <td>0.83</td>\n",
       "      <td>0.43</td>\n",
       "      <td>1.76</td>\n",
       "      <td>0.76</td>\n",
       "    </tr>\n",
       "    <tr>\n",
       "      <th>min</th>\n",
       "      <td>1.00</td>\n",
       "      <td>4.30</td>\n",
       "      <td>2.00</td>\n",
       "      <td>1.00</td>\n",
       "      <td>0.10</td>\n",
       "    </tr>\n",
       "    <tr>\n",
       "      <th>25%</th>\n",
       "      <td>38.25</td>\n",
       "      <td>5.10</td>\n",
       "      <td>2.80</td>\n",
       "      <td>1.60</td>\n",
       "      <td>0.30</td>\n",
       "    </tr>\n",
       "    <tr>\n",
       "      <th>50%</th>\n",
       "      <td>75.50</td>\n",
       "      <td>5.80</td>\n",
       "      <td>3.00</td>\n",
       "      <td>4.35</td>\n",
       "      <td>1.30</td>\n",
       "    </tr>\n",
       "    <tr>\n",
       "      <th>75%</th>\n",
       "      <td>112.75</td>\n",
       "      <td>6.40</td>\n",
       "      <td>3.30</td>\n",
       "      <td>5.10</td>\n",
       "      <td>1.80</td>\n",
       "    </tr>\n",
       "    <tr>\n",
       "      <th>max</th>\n",
       "      <td>150.00</td>\n",
       "      <td>7.90</td>\n",
       "      <td>4.40</td>\n",
       "      <td>6.90</td>\n",
       "      <td>2.50</td>\n",
       "    </tr>\n",
       "  </tbody>\n",
       "</table>\n",
       "</div>"
      ],
      "text/plain": [
       "          Id  SepalLengthCm  SepalWidthCm  PetalLengthCm  PetalWidthCm\n",
       "count 150.00         150.00        150.00         150.00        150.00\n",
       "mean   75.50           5.84          3.05           3.76          1.20\n",
       "std    43.45           0.83          0.43           1.76          0.76\n",
       "min     1.00           4.30          2.00           1.00          0.10\n",
       "25%    38.25           5.10          2.80           1.60          0.30\n",
       "50%    75.50           5.80          3.00           4.35          1.30\n",
       "75%   112.75           6.40          3.30           5.10          1.80\n",
       "max   150.00           7.90          4.40           6.90          2.50"
      ]
     },
     "execution_count": 33,
     "metadata": {},
     "output_type": "execute_result"
    }
   ],
   "source": [
    "df.describe()"
   ]
  },
  {
   "cell_type": "code",
   "execution_count": null,
   "id": "d8679a51-f5f1-48f2-aa6a-8f84a07f0eae",
   "metadata": {},
   "outputs": [],
   "source": []
  }
 ],
 "metadata": {
  "kernelspec": {
   "display_name": "Python 3 (ipykernel)",
   "language": "python",
   "name": "python3"
  },
  "language_info": {
   "codemirror_mode": {
    "name": "ipython",
    "version": 3
   },
   "file_extension": ".py",
   "mimetype": "text/x-python",
   "name": "python",
   "nbconvert_exporter": "python",
   "pygments_lexer": "ipython3",
   "version": "3.11.4"
  }
 },
 "nbformat": 4,
 "nbformat_minor": 5
}
